{
 "cells": [
  {
   "cell_type": "code",
   "execution_count": 1,
   "metadata": {},
   "outputs": [],
   "source": [
    "import pandas as pd\n",
    "from sklearn.tree import DecisionTreeClassifier\n",
    "# import matplotlib.pyplot as plt\n",
    "from sklearn.metrics import accuracy_score\n",
    "from sklearn.preprocessing import LabelEncoder\n",
    "\n",
    "from sklearn.naive_bayes import GaussianNB\n",
    "from sklearn.feature_selection import SelectKBest\n",
    "from sklearn.feature_selection import chi2\n",
    "from sklearn.svm import SVC\n",
    "from sklearn.model_selection import train_test_split"
   ]
  },
  {
   "cell_type": "code",
   "execution_count": 2,
   "metadata": {},
   "outputs": [],
   "source": [
    "df=pd.read_csv(\"try.csv\")\n",
    "lenc =LabelEncoder()\n",
    "df[\"STATE_n\"]= lenc.fit_transform(df[\"STATE\"])\n",
    "Y=df[\"STATE\"]\n",
    "X=df[[\"SMILE\",\"PUCK\",\"NOD\",\"YAW\",\"ROLL\",\"EYEBROW\",\"LIPS\"]]"
   ]
  },
  {
   "cell_type": "code",
   "execution_count": 3,
   "metadata": {},
   "outputs": [],
   "source": [
    "clf=GaussianNB()"
   ]
  },
  {
   "cell_type": "code",
   "execution_count": 4,
   "metadata": {},
   "outputs": [
    {
     "name": "stderr",
     "output_type": "stream",
     "text": [
      "c:\\users\\pkata\\appdata\\local\\programs\\python\\python36\\lib\\site-packages\\sklearn\\utils\\validation.py:724: DataConversionWarning: A column-vector y was passed when a 1d array was expected. Please change the shape of y to (n_samples, ), for example using ravel().\n",
      "  y = column_or_1d(y, warn=True)\n"
     ]
    },
    {
     "data": {
      "text/plain": [
       "GaussianNB(priors=None, var_smoothing=1e-09)"
      ]
     },
     "execution_count": 4,
     "metadata": {},
     "output_type": "execute_result"
    }
   ],
   "source": [
    "clf.fit(X,Y.values.reshape(-1,1))"
   ]
  },
  {
   "cell_type": "code",
   "execution_count": 5,
   "metadata": {},
   "outputs": [],
   "source": [
    "pred=clf.predict(X)"
   ]
  },
  {
   "cell_type": "code",
   "execution_count": 6,
   "metadata": {},
   "outputs": [
    {
     "name": "stdout",
     "output_type": "stream",
     "text": [
      "0.4411764705882353\n"
     ]
    }
   ],
   "source": [
    "yac=Y.values\n",
    "print(accuracy_score(yac,pred))"
   ]
  },
  {
   "cell_type": "code",
   "execution_count": 7,
   "metadata": {},
   "outputs": [
    {
     "name": "stdout",
     "output_type": "stream",
     "text": [
      "     SMILE  PUCK  NOD  YAW  ROLL  EYEBROW  LIPS\n",
      "0        1     0    0    0     0        0     0\n",
      "1        1     0    1    0     0        0     0\n",
      "2        1     0    1    0     1        0     0\n",
      "3        1     0    1    0     0        1     0\n",
      "4        1     0    1    0     1        1     0\n",
      "..     ...   ...  ...  ...   ...      ...   ...\n",
      "131      1     0    0    0     0        0     0\n",
      "132      1     0    0    0     0        1     0\n",
      "133      1     0    0    0     0        0     1\n",
      "134      1     0    0    0     1        1     1\n",
      "135      0     1    0    0     0        1     0\n",
      "\n",
      "[136 rows x 7 columns]\n"
     ]
    },
    {
     "data": {
      "text/plain": [
       "array(['A'], dtype='<U1')"
      ]
     },
     "execution_count": 7,
     "metadata": {},
     "output_type": "execute_result"
    }
   ],
   "source": [
    "import pickle \n",
    "filename=\"model_11.sav\"  \n",
    "# Save the trained model as a pickle string. \n",
    "pickle.dump(clf,open(filename,\"wb\")) \n",
    "\n",
    "# Load the pickled model \n",
    "model_from_pickle = pickle.load(open(filename,\"rb\")) \n",
    "print(X)\n",
    "# Use the loaded pickled model to make predictions \n",
    "model_from_pickle.predict([[1,0,1,0,1,0,1]]) "
   ]
  },
  {
   "cell_type": "code",
   "execution_count": null,
   "metadata": {},
   "outputs": [],
   "source": []
  },
  {
   "cell_type": "code",
   "execution_count": null,
   "metadata": {},
   "outputs": [],
   "source": []
  },
  {
   "cell_type": "code",
   "execution_count": null,
   "metadata": {},
   "outputs": [],
   "source": []
  }
 ],
 "metadata": {
  "kernelspec": {
   "display_name": "Python 3",
   "language": "python",
   "name": "python3"
  },
  "language_info": {
   "codemirror_mode": {
    "name": "ipython",
    "version": 3
   },
   "file_extension": ".py",
   "mimetype": "text/x-python",
   "name": "python",
   "nbconvert_exporter": "python",
   "pygments_lexer": "ipython3",
   "version": "3.6.8"
  }
 },
 "nbformat": 4,
 "nbformat_minor": 2
}
